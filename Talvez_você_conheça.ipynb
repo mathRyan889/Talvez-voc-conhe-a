{
  "cells": [
    {
      "cell_type": "markdown",
      "metadata": {
        "id": "view-in-github",
        "colab_type": "text"
      },
      "source": [
        "<a href=\"https://colab.research.google.com/github/mathRyan889/Talvez-voc-conhe-a/blob/main/Talvez_voc%C3%AA_conhe%C3%A7a.ipynb\" target=\"_parent\"><img src=\"https://colab.research.google.com/assets/colab-badge.svg\" alt=\"Open In Colab\"/></a>"
      ]
    },
    {
      "cell_type": "markdown",
      "metadata": {
        "id": "Mlg2MMXWWOV1"
      },
      "source": [
        "Data dump; Uma lista em que cada usuário é representado por um dict, que contem o seu id (um número) e seu name(uma string)."
      ]
    },
    {
      "cell_type": "code",
      "execution_count": null,
      "metadata": {
        "id": "Fhu47S8kSc9U"
      },
      "outputs": [],
      "source": [
        "users = [\n",
        "    {\"id\": 0, \"name\": \"Hero\"},\n",
        "    {\"id\": 1, \"name\": \"Dunn\"},\n",
        "    {\"id\": 2, \"name\": \"Sue\"},\n",
        "    {\"id\": 3, \"name\": \"Chi\"},\n",
        "    {\"id\": 4, \"name\": \"Thor\"},\n",
        "    {\"id\": 5, \"name\": \"Clive\"},\n",
        "    {\"id\": 6, \"name\": \"Hicks\"},\n",
        "    {\"id\": 7, \"name\": \"Devin\"},\n",
        "    {\"id\": 8, \"name\": \"Kate\"},\n",
        "    {\"id\": 9, \"name\": \"Klein\"}\n",
        "    ]"
      ]
    },
    {
      "cell_type": "markdown",
      "metadata": {
        "id": "LsSVnbAZWn0M"
      },
      "source": [
        "também temos uma lista de dados de amizade, reunidos em uma lista de ids, porém não é muito eficiente a busca de certas informações nesse tipo de lista, então vamos criar um dict no qual as chaves serão os ids dos usuarios e os valores serão listas com  os ids dos seus amigos\n",
        "\n"
      ]
    },
    {
      "cell_type": "code",
      "execution_count": null,
      "metadata": {
        "id": "hNiGe6bpSkQM"
      },
      "outputs": [],
      "source": [
        "friendship_pairs = [(0,1),(0,2),(1,2),(1,3),(2,3),(3,4),(4,5),(5,6),(5,7),(6,8),(7,8),(8,9)]"
      ]
    },
    {
      "cell_type": "code",
      "execution_count": null,
      "metadata": {
        "id": "klFBwPLOWzYg"
      },
      "outputs": [],
      "source": [
        "#inicialize com uma chave vazia para cada id de usuario\n",
        "friendship = {user[\"id\"]:[] for user in users}\n",
        "\n",
        "#Em seguida, execute um loop pelos pares de amigos para preenchê-las\n",
        "for i,j in friendship_pairs:\n",
        "  friendship[i].append(j)  #Adicione J como amigo de i\n",
        "  friendship[j].append(i)  #Adicione I como amigo de j"
      ]
    },
    {
      "cell_type": "markdown",
      "metadata": {
        "id": "RpWMJjIfZrcq"
      },
      "source": [
        "Agora que colocamos as amizades em um dict, podemos facilmente fazer perguntas ao nosso grafo, como: \"Qual é o número médio de conexões\""
      ]
    },
    {
      "cell_type": "code",
      "execution_count": null,
      "metadata": {
        "id": "GoquuMNqZoxX"
      },
      "outputs": [],
      "source": [
        "#Determinar o número total de conexões somando os tamanhos de todas as listas de friends:\n",
        "def number_of_friends(user):\n",
        "  \"\"\"Quantos amigos tem o _user_\"\"\"\n",
        "  user_id = user[\"id\"]\n",
        "  friend_ids = friendship[user_id]\n",
        "  return len(friend_ids)\n",
        "\n",
        "total_conectons = sum(number_of_friends(user)\n",
        "for user in users)\n",
        "\n",
        "#Dividir pelo número\n",
        "num_user = len(users)\n",
        "avg_connections = total_conectons / num_user"
      ]
    },
    {
      "cell_type": "markdown",
      "metadata": {
        "id": "5W2LWgxbfl58"
      },
      "source": [
        " Também fica facil encontrar as pessoas mais conectadas, as que possuem o maior número de amigos. Como o número de usuarios não é muito grande, podemos colocá-los em ordem descrescente, do que tem \"menos amigos\" para o que tem \"mais amigos\":"
      ]
    },
    {
      "cell_type": "code",
      "execution_count": null,
      "metadata": {
        "id": "4zG-osRWZpUQ"
      },
      "outputs": [],
      "source": [
        "#crie uma lista (user_id, number_of_friends)\n",
        "num_friends_by_id = [(user[\"id\"], number_of_friends(user)) for user in users]\n",
        "num_friends_by_id.sort(key=lambda id_and_friends: id_and_friends[1], reverse=True)\n"
      ]
    },
    {
      "cell_type": "markdown",
      "metadata": {
        "id": "0xlHJNRU46KH"
      },
      "source": [
        "Imagine que você queira incrementar as conexões entre os membros do site e pede que você desenvolva um sugestor do tipo \"Cientistas de dados que talves você conheça\". Sua primeira ideia é sugerir que os usuarios podem conhecer os amigos dos seus amigos."
      ]
    },
    {
      "cell_type": "code",
      "execution_count": null,
      "metadata": {
        "id": "wHFaVRmfZpwZ"
      },
      "outputs": [],
      "source": [
        "def foaf_ids_bad(user):\n",
        "  return [ foaf_id\n",
        "          for friend_id in friendship[user[\"id\"]]\n",
        "          for foaf_id in friendship[friend_id]]"
      ]
    },
    {
      "cell_type": "markdown",
      "source": [
        "Vamos gerar uma contagem de amigos em comum, porém excluindo as pessoas que o usuario já conhece:\n",
        "\n"
      ],
      "metadata": {
        "id": "LVgFdkGDJhGp"
      }
    },
    {
      "cell_type": "markdown",
      "source": [
        "Counter\n",
        "Para contar coisas com facilidade.\n",
        "\n",
        "Imagine um contador mágico que, ao receber uma lista de palavras, automaticamente conta quantas vezes cada uma apareceu.\n",
        "\n",
        "python\n",
        "Copiar\n",
        "Editar\n",
        "from collections import Counter\n",
        "\n",
        "frutas = ['maçã', 'banana', 'maçã', 'laranja', 'banana', 'maçã']\n",
        "contador = Counter(frutas)\n",
        "\n",
        "print(contador)  # Counter({'maçã': 3, 'banana': 2, 'laranja': 1})\n"
      ],
      "metadata": {
        "id": "jm9n-rBtPAfs"
      }
    },
    {
      "cell_type": "code",
      "source": [
        "from collections import Counter\n",
        "\n",
        "def friends_of_friends(user):\n",
        "  user_id = user[\"id\"]\n",
        "  return Counter(\n",
        "      foaf_id\n",
        "      for friend_id in friendship[user_id] #para cada amigo meu,\n",
        "      for foaf_id in friendship[friend_id] #encontre os amigos deles\n",
        "      if foaf_id != user_id                #que não sejam eu\n",
        "      and foaf_id not in friendship[user_id] # e não sejam meus amigos.\n",
        "  )\n",
        "\n",
        "print(friends_of_friends(users[3]))"
      ],
      "metadata": {
        "colab": {
          "base_uri": "https://localhost:8080/"
        },
        "id": "526ZwlmuJZ8A",
        "outputId": "b3fb17c2-15e7-456f-efae-00db93e4ec15"
      },
      "execution_count": null,
      "outputs": [
        {
          "output_type": "stream",
          "name": "stdout",
          "text": [
            "Counter({0: 2, 5: 1})\n"
          ]
        }
      ]
    },
    {
      "cell_type": "markdown",
      "source": [
        "Como cientista de dados, talvez você queira encontrar usuarios com interesses similares.(Esse é um bom exemplo do fator \"experiencia substancial\" do data science). Então, depois de suar um pouco a camisa, você obtém os seguintes dados, reunidos como uma lista de pares (user_id, interest)"
      ],
      "metadata": {
        "id": "Fnf9Ey7tNjrh"
      }
    },
    {
      "cell_type": "markdown",
      "metadata": {
        "id": "p-w9hYzY5q9J"
      },
      "source": [
        "Vamos realizar uma contagem de amigos em comum, porém excluindo as pessoas que o usuarios já conhece.\n",
        "\n",
        "A biblioteca collections do Python é uma extensão da biblioteca padrão que fornece tipos de dados adicionais e mais especializados, além das estruturas básicas como listas, tuplas e dicionários. Ela é muito útil para escrever código mais limpo, eficiente e legível, especialmente em tarefas relacionadas à contagem, organização e manipulação de dados.\n",
        "\n",
        "ex;\n",
        "\n",
        "from collections import Counter\n",
        "\n",
        "frutas = ['maçã', 'banana', 'maçã', 'laranja', 'banana', 'maçã']\n",
        "contador = Counter(frutas)\n",
        "\n",
        "print(contador)  # Counter({'maçã': 3, 'banana': 2, 'laranja': 1})\n"
      ]
    },
    {
      "cell_type": "code",
      "execution_count": null,
      "metadata": {
        "colab": {
          "base_uri": "https://localhost:8080/"
        },
        "id": "ky1m-a26dVgh",
        "outputId": "26c0e3e6-b365-44c5-97da-7c3fa7dafe39"
      },
      "outputs": [
        {
          "output_type": "stream",
          "name": "stdout",
          "text": [
            "Counter({0: 2, 5: 1})\n"
          ]
        }
      ],
      "source": [
        "from collections import Counter\n",
        "\n",
        "def friends_of_friends(user, friendships):\n",
        "    user_id = user[\"id\"]\n",
        "    friends = set(friendships[user_id])  # amigos diretos do usuário\n",
        "    return Counter(\n",
        "        foaf_id\n",
        "        for friend_id in friends                  # para cada amigo\n",
        "        for foaf_id in friendships[friend_id]     # para cada amigo do amigo\n",
        "        if foaf_id != user_id and foaf_id not in friends  # não sou eu e não é amigo direto\n",
        "    )\n",
        "\n",
        "print(friends_of_friends(users[3], friendship))"
      ]
    },
    {
      "cell_type": "code",
      "source": [
        "interests = [\n",
        "    (0, \"Hadoop\"), (0, \"Big Data\"), (0, \"HBase\"), (0, \"Java\"),\n",
        "    (0, \"Spark\"), (0, \"Storm\"), (0, \"Cassandra\"),\n",
        "    (1, \"NoSQL\"), (1, \"MongoDB\"), (1, \"Cassandra\"), (1, \"HBase\"),\n",
        "    (1, \"Postgres\"), (2, \"Python\"), (2, \"scikit-learn\"), (2, \"scipy\"),\n",
        "    (2, \"numpy\"), (2, \"statsmodels\"), (2, \"pandas\"), (3, \"R\"), (3, \"Python\"),\n",
        "    (3, \"statistics\"), (3, \"regression\"), (3, \"probability\"), (4, \"machine learning\"),\n",
        "    (4, \"regression\"), (4, \"decision trees\"), (4, \"libsvm\"), (5, \"Python\"),\n",
        "    (5, \"R\"), (5, \"Java\"), (5, \"C++\"), (5, \"Haskell\"), (5, \"programming languages\"), (6, \"statistics\"),\n",
        "    (6, \"probability\"), (6, \"mathematics\"), (6, \"theory\"),\n",
        "    (7, \"machine learning\"), (7, \"scikit-learn\"), (7, \"Mahout\"),(7, \"neural networks\"),\n",
        "    (8, \"neural networks\"), (8, \"deep learning\"), (8, \"Big Data\"), (8, \"artificial intelligence\"),(9, \"Hadoop\"),\n",
        "    (9, \"Java\"), (9, \"MapReduce\"), (9, \"Big Data\")\n",
        "]"
      ],
      "metadata": {
        "id": "aA7dygHMJa_i"
      },
      "execution_count": null,
      "outputs": []
    },
    {
      "cell_type": "code",
      "source": [
        "def data_scientists_who_like(target_interest):\n",
        "  #Encontre os ids dos usuarios com o mesmo interesse.\n",
        "  return [user_id\n",
        "          for user_id, user_interest in interests\n",
        "          if user_interest == target_interest]\n"
      ],
      "metadata": {
        "id": "08lNamSGJbO5"
      },
      "execution_count": null,
      "outputs": []
    },
    {
      "cell_type": "markdown",
      "source": [
        "A operação funciona, porém tem que examinar a lista de interesses inteira a cada busca. Quando há muitos usuários e iteresses (ou pra fazer muitas buscas), é melhor construir um indice de interesses para usuários:\n",
        "\n",
        "defaultdict\n",
        "Um dicionário que cria valores padrão automaticamente.\n",
        "\n",
        "É como um dicionário encantado: se você tentar acessar uma chave que não existe, ele não lança erro — ele cria uma com valor padrão.\n",
        "\n",
        "python\n",
        "Copiar\n",
        "Editar\n",
        "from collections import defaultdict\n",
        "\n",
        "d = defaultdict(int)  # valor padrão é 0\n",
        "d['a'] += 1\n",
        "print(d['a'])  # 1\n",
        "print(d['b'])  # 0 (não existia, mas foi criado com valor 0)"
      ],
      "metadata": {
        "id": "fqMCulkLW8kv"
      }
    },
    {
      "cell_type": "code",
      "execution_count": null,
      "metadata": {
        "id": "qTtK3CL-8oFZ"
      },
      "outputs": [],
      "source": [
        "from collections import defaultdict\n",
        "\n",
        "#As cha são interesses, os valores são listas de user_id com o interesse em questão\n",
        "user_id_by_interests = defaultdict(list)\n",
        "\n",
        "for user_id, interest in interests:\n",
        "  user_id_by_interests[interest].append(user_id)\n",
        "\n",
        "# As chaves são user_ids, os valores são listas de interesses\n",
        "interests_by_user_id = defaultdict(list)\n",
        "\n",
        "for user_id, interest in interests:\n",
        "  interests_by_user_id[user_id].append(interest)"
      ]
    },
    {
      "cell_type": "markdown",
      "source": [
        "Agora é facil determinar quem tem mais interesses em comum com um usuário especifico:\n",
        "\n",
        "- faça a interação dos interesses do usuario;\n",
        "- para cada interesse, façaa interação dos outros usuários com o mesmo interesse;\n",
        "- conte cada vezes cada usuário aparece."
      ],
      "metadata": {
        "id": "8iy8aUt3b917"
      }
    },
    {
      "cell_type": "code",
      "source": [
        "def most_common_interests_with(user):\n",
        " return Counter(\n",
        "     interested_user_id\n",
        "     for interest in interests_by_user_id[user[\"id\"]]\n",
        "     for interested_user_id in user_id_by_interests[interest]\n",
        "     for interests_by_user_id in user_id_by_interests[interest]\n",
        "     if interested_user_id != user[\"id\"]\n",
        " )"
      ],
      "metadata": {
        "id": "BYYWFJOpbwih"
      },
      "execution_count": null,
      "outputs": []
    },
    {
      "cell_type": "code",
      "source": [],
      "metadata": {
        "id": "3ORbe2X2c0LZ"
      },
      "execution_count": null,
      "outputs": []
    }
  ],
  "metadata": {
    "colab": {
      "provenance": [],
      "mount_file_id": "1ZjM1mD7YJ0fi5WLnWD2nDMBmHDbP4C0p",
      "authorship_tag": "ABX9TyNpuqj6kBRvNUw0YjWBPh14",
      "include_colab_link": true
    },
    "kernelspec": {
      "display_name": "Python 3",
      "name": "python3"
    },
    "language_info": {
      "name": "python"
    }
  },
  "nbformat": 4,
  "nbformat_minor": 0
}